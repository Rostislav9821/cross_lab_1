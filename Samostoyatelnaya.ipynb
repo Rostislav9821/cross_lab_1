{
 "cells": [
  {
   "cell_type": "code",
   "execution_count": null,
   "metadata": {},
   "outputs": [],
   "source": [
    "#Колесо, вращаясь равнозамедленно при торможении, уменьшило за 5 мин скорость вращения от 14 об/с до 4 об/с. \n",
    "#Момент инерции колеса равен 7 кг*м2. Найти тормозящий момент.\n",
    "\n",
    "ДАНО:\n",
    "\n",
    "t=5мин\n",
    "v1=14 об/с\n",
    "v2=4 об/с\n",
    "I=7 кг*м2\n",
    "Найти: M\n",
    "    "
   ]
  },
  {
   "cell_type": "code",
   "execution_count": 1,
   "metadata": {},
   "outputs": [],
   "source": [
    "t = 5 \n",
    "v1 = 14 \n",
    "v2 = 4 \n",
    "I = 7\n",
    "PI = 3.14"
   ]
  },
  {
   "cell_type": "code",
   "execution_count": null,
   "metadata": {},
   "outputs": [],
   "source": [
    "По основному закону динамики вращательного движения:\n",
    "\n",
    "M=I*ε;\n",
    "По определению угловое ускорение:\n",
    "\n",
    "M=2⋅π⋅I⋅v1−v2t"
   ]
  },
  {
   "cell_type": "code",
   "execution_count": 2,
   "metadata": {},
   "outputs": [
    {
     "name": "stdout",
     "output_type": "stream",
     "text": [
      "595.44\n"
     ]
    }
   ],
   "source": [
    "\n",
    "m = 2 * PI * I * v1 - v2 * t\n",
    "print(m)"
   ]
  },
  {
   "cell_type": "code",
   "execution_count": null,
   "metadata": {},
   "outputs": [],
   "source": []
  }
 ],
 "metadata": {
  "kernelspec": {
   "display_name": "Python 3",
   "language": "python",
   "name": "python3"
  },
  "language_info": {
   "codemirror_mode": {
    "name": "ipython",
    "version": 3
   },
   "file_extension": ".py",
   "mimetype": "text/x-python",
   "name": "python",
   "nbconvert_exporter": "python",
   "pygments_lexer": "ipython3",
   "version": "3.8.5"
  }
 },
 "nbformat": 4,
 "nbformat_minor": 4
}
